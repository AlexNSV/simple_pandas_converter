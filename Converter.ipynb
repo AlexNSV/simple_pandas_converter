{
 "cells": [
  {
   "cell_type": "markdown",
   "metadata": {},
   "source": [
    "## How to\n",
    "\n",
    "- Go to file manager (tab where you found this notebook)\n",
    "- drag-n-drop data and replacement codes files\n",
    "- fill in their names (see instructions below)\n",
    "- run the cell below (select it and press ctrl+enter)\n",
    "- a new file was born nearby, download it with your file manager (click->File->Download)"
   ]
  },
  {
   "cell_type": "code",
   "execution_count": 14,
   "metadata": {
    "collapsed": true
   },
   "outputs": [],
   "source": [
    "import pandas as pd\n",
    "\n",
    "replacements_table = pd.read_excel(\"./COW_Replacement_codes.xlsx\",sheetname=0) #name of replacement codes table\n",
    "ccode_to_state_name = dict(zip(replacements_table[\"CCode\"],replacements_table[\"StateNme\"]))\n",
    "\n",
    "data_table = pd.read_excel(\"./FUFv1_10.xls\",sheetname=0) #name of data table\n",
    "\n",
    "#               V-- new column name                                 V-- name of ccode field in data table\n",
    "data_table[\"StateName\"] = map(ccode_to_state_name.get, data_table[\"ccode\"])\n",
    "\n",
    "data_table.to_excel(\"./newFUFv1_10.xls\") #name of output file to save to"
   ]
  },
  {
   "cell_type": "markdown",
   "metadata": {},
   "source": [
    "## After the code above, the files in the fs should look like this:\n",
    "![img](./screen.png)"
   ]
  },
  {
   "cell_type": "code",
   "execution_count": null,
   "metadata": {
    "collapsed": true
   },
   "outputs": [],
   "source": []
  }
 ],
 "metadata": {
  "kernelspec": {
   "display_name": "Python [Root]",
   "language": "python",
   "name": "Python [Root]"
  },
  "language_info": {
   "codemirror_mode": {
    "name": "ipython",
    "version": 2
   },
   "file_extension": ".py",
   "mimetype": "text/x-python",
   "name": "python",
   "nbconvert_exporter": "python",
   "pygments_lexer": "ipython2",
   "version": "2.7.12"
  }
 },
 "nbformat": 4,
 "nbformat_minor": 0
}
